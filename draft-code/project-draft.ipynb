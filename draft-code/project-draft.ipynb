{
 "cells": [
  {
   "cell_type": "markdown",
   "metadata": {},
   "source": [
    "# Dependency"
   ]
  },
  {
   "cell_type": "code",
   "execution_count": 46,
   "metadata": {},
   "outputs": [],
   "source": [
    "import pandas as pd\n",
    "import numpy as np\n",
    "from pandas_datareader import data as wb # datareader supports multiple financial database including yahoo and google\n",
    "import datetime\n",
    "from dateutil.relativedelta import relativedelta\n",
    "import GetOldTweets3 as tws\n",
    "import tweepy"
   ]
  },
  {
   "source": [
    "# Data Source\n",
    "## Start & End Date"
   ],
   "cell_type": "markdown",
   "metadata": {}
  },
  {
   "cell_type": "code",
   "execution_count": 147,
   "metadata": {},
   "outputs": [],
   "source": [
    "date_rang_month = 3\n",
    "start_date = datetime.date.today() + relativedelta(months=-date_rang_month)\n",
    "end_date = datetime.date.today()"
   ]
  },
  {
   "source": [
    "## TESLA Stock"
   ],
   "cell_type": "markdown",
   "metadata": {}
  },
  {
   "cell_type": "code",
   "execution_count": 156,
   "metadata": {},
   "outputs": [
    {
     "output_type": "execute_result",
     "data": {
      "text/plain": "                  High         Low        Open       Close       Volume  \\\nDate                                                                      \n2020-08-27  459.119995  428.500000  436.092010  447.750000  118465000.0   \n2020-08-28  463.697998  437.303986  459.023987  442.679993  100406000.0   \n2020-08-31  500.140015  440.109985  444.609985  498.320007  118374400.0   \n2020-09-01  502.489990  470.510010  502.140015  475.049988   90119400.0   \n2020-09-02  479.040009  405.119995  478.989990  447.369995   96176100.0   \n\n             Adj Close  \nDate                    \n2020-08-27  447.750000  \n2020-08-28  442.679993  \n2020-08-31  498.320007  \n2020-09-01  475.049988  \n2020-09-02  447.369995  ",
      "text/html": "<div>\n<style scoped>\n    .dataframe tbody tr th:only-of-type {\n        vertical-align: middle;\n    }\n\n    .dataframe tbody tr th {\n        vertical-align: top;\n    }\n\n    .dataframe thead th {\n        text-align: right;\n    }\n</style>\n<table border=\"1\" class=\"dataframe\">\n  <thead>\n    <tr style=\"text-align: right;\">\n      <th></th>\n      <th>High</th>\n      <th>Low</th>\n      <th>Open</th>\n      <th>Close</th>\n      <th>Volume</th>\n      <th>Adj Close</th>\n    </tr>\n    <tr>\n      <th>Date</th>\n      <th></th>\n      <th></th>\n      <th></th>\n      <th></th>\n      <th></th>\n      <th></th>\n    </tr>\n  </thead>\n  <tbody>\n    <tr>\n      <th>2020-08-27</th>\n      <td>459.119995</td>\n      <td>428.500000</td>\n      <td>436.092010</td>\n      <td>447.750000</td>\n      <td>118465000.0</td>\n      <td>447.750000</td>\n    </tr>\n    <tr>\n      <th>2020-08-28</th>\n      <td>463.697998</td>\n      <td>437.303986</td>\n      <td>459.023987</td>\n      <td>442.679993</td>\n      <td>100406000.0</td>\n      <td>442.679993</td>\n    </tr>\n    <tr>\n      <th>2020-08-31</th>\n      <td>500.140015</td>\n      <td>440.109985</td>\n      <td>444.609985</td>\n      <td>498.320007</td>\n      <td>118374400.0</td>\n      <td>498.320007</td>\n    </tr>\n    <tr>\n      <th>2020-09-01</th>\n      <td>502.489990</td>\n      <td>470.510010</td>\n      <td>502.140015</td>\n      <td>475.049988</td>\n      <td>90119400.0</td>\n      <td>475.049988</td>\n    </tr>\n    <tr>\n      <th>2020-09-02</th>\n      <td>479.040009</td>\n      <td>405.119995</td>\n      <td>478.989990</td>\n      <td>447.369995</td>\n      <td>96176100.0</td>\n      <td>447.369995</td>\n    </tr>\n  </tbody>\n</table>\n</div>"
     },
     "metadata": {},
     "execution_count": 156
    }
   ],
   "source": [
    "tsla_df = pd.DataFrame(wb.DataReader(\"TSLA\", \n",
    "                                    data_source = \"yahoo\", \n",
    "                                    start = start_date, \n",
    "                                    end = end_date))\n",
    "tsla_df = tsla_df.dropna()\n",
    "tsla_df.head(5)"
   ]
  },
  {
   "cell_type": "markdown",
   "metadata": {},
   "source": [
    "## Dow Jones Index Average"
   ]
  },
  {
   "cell_type": "code",
   "execution_count": 157,
   "metadata": {},
   "outputs": [
    {
     "output_type": "execute_result",
     "data": {
      "text/plain": "                DJIA\nDATE                \n2020-08-27  28492.27\n2020-08-28  28653.87\n2020-08-31  28430.05\n2020-09-01  28645.66\n2020-09-02  29100.50",
      "text/html": "<div>\n<style scoped>\n    .dataframe tbody tr th:only-of-type {\n        vertical-align: middle;\n    }\n\n    .dataframe tbody tr th {\n        vertical-align: top;\n    }\n\n    .dataframe thead th {\n        text-align: right;\n    }\n</style>\n<table border=\"1\" class=\"dataframe\">\n  <thead>\n    <tr style=\"text-align: right;\">\n      <th></th>\n      <th>DJIA</th>\n    </tr>\n    <tr>\n      <th>DATE</th>\n      <th></th>\n    </tr>\n  </thead>\n  <tbody>\n    <tr>\n      <th>2020-08-27</th>\n      <td>28492.27</td>\n    </tr>\n    <tr>\n      <th>2020-08-28</th>\n      <td>28653.87</td>\n    </tr>\n    <tr>\n      <th>2020-08-31</th>\n      <td>28430.05</td>\n    </tr>\n    <tr>\n      <th>2020-09-01</th>\n      <td>28645.66</td>\n    </tr>\n    <tr>\n      <th>2020-09-02</th>\n      <td>29100.50</td>\n    </tr>\n  </tbody>\n</table>\n</div>"
     },
     "metadata": {},
     "execution_count": 157
    }
   ],
   "source": [
    "djia_df = pd.DataFrame(wb.DataReader(\"DJIA\", \n",
    "                                     data_source = \"fred\",\n",
    "                                     start = start_date + relativedelta(days = -1), # due to fred database's specialty, we should set the start date one day before the actual start date.\n",
    "                                     end = end_date))\n",
    "djia_df = djia_df.dropna()\n",
    "djia_df.head(5)"
   ]
  },
  {
   "cell_type": "markdown",
   "metadata": {},
   "source": [
    "## Federal Funds Rate  "
   ]
  },
  {
   "cell_type": "code",
   "execution_count": 158,
   "metadata": {},
   "outputs": [
    {
     "output_type": "execute_result",
     "data": {
      "text/plain": "             DFF\nDATE            \n2020-08-27  0.08\n2020-08-28  0.09\n2020-08-29  0.09\n2020-08-30  0.09\n2020-08-31  0.09",
      "text/html": "<div>\n<style scoped>\n    .dataframe tbody tr th:only-of-type {\n        vertical-align: middle;\n    }\n\n    .dataframe tbody tr th {\n        vertical-align: top;\n    }\n\n    .dataframe thead th {\n        text-align: right;\n    }\n</style>\n<table border=\"1\" class=\"dataframe\">\n  <thead>\n    <tr style=\"text-align: right;\">\n      <th></th>\n      <th>DFF</th>\n    </tr>\n    <tr>\n      <th>DATE</th>\n      <th></th>\n    </tr>\n  </thead>\n  <tbody>\n    <tr>\n      <th>2020-08-27</th>\n      <td>0.08</td>\n    </tr>\n    <tr>\n      <th>2020-08-28</th>\n      <td>0.09</td>\n    </tr>\n    <tr>\n      <th>2020-08-29</th>\n      <td>0.09</td>\n    </tr>\n    <tr>\n      <th>2020-08-30</th>\n      <td>0.09</td>\n    </tr>\n    <tr>\n      <th>2020-08-31</th>\n      <td>0.09</td>\n    </tr>\n  </tbody>\n</table>\n</div>"
     },
     "metadata": {},
     "execution_count": 158
    }
   ],
   "source": [
    "dff_df = pd.DataFrame(wb.DataReader(\"DFF\", \n",
    "                                    data_source = \"fred\",\n",
    "                                    start = start_date + relativedelta(days = -1), # due to fred database's specialty, we should set the start date one day before the actual start date.\n",
    "                                    end = end_date))\n",
    "dff_df = dff_df.dropna()\n",
    "dff_df.head(5)"
   ]
  },
  {
   "cell_type": "markdown",
   "metadata": {},
   "source": [
    "## Panasonic Corp. Stock"
   ]
  },
  {
   "cell_type": "code",
   "execution_count": 159,
   "metadata": {},
   "outputs": [
    {
     "output_type": "execute_result",
     "data": {
      "text/plain": "            High   Low  Open  Close  Volume  Adj Close\nDate                                                  \n2020-08-27  9.21  9.02  9.02   9.09  148200       9.09\n2020-08-28  9.30  9.04  9.04   9.27  170600       9.27\n2020-08-31  9.33  9.20  9.31   9.29  177800       9.29\n2020-09-01  9.29  9.18  9.27   9.23  200400       9.23\n2020-09-02  9.22  9.04  9.13   9.22  179500       9.22",
      "text/html": "<div>\n<style scoped>\n    .dataframe tbody tr th:only-of-type {\n        vertical-align: middle;\n    }\n\n    .dataframe tbody tr th {\n        vertical-align: top;\n    }\n\n    .dataframe thead th {\n        text-align: right;\n    }\n</style>\n<table border=\"1\" class=\"dataframe\">\n  <thead>\n    <tr style=\"text-align: right;\">\n      <th></th>\n      <th>High</th>\n      <th>Low</th>\n      <th>Open</th>\n      <th>Close</th>\n      <th>Volume</th>\n      <th>Adj Close</th>\n    </tr>\n    <tr>\n      <th>Date</th>\n      <th></th>\n      <th></th>\n      <th></th>\n      <th></th>\n      <th></th>\n      <th></th>\n    </tr>\n  </thead>\n  <tbody>\n    <tr>\n      <th>2020-08-27</th>\n      <td>9.21</td>\n      <td>9.02</td>\n      <td>9.02</td>\n      <td>9.09</td>\n      <td>148200</td>\n      <td>9.09</td>\n    </tr>\n    <tr>\n      <th>2020-08-28</th>\n      <td>9.30</td>\n      <td>9.04</td>\n      <td>9.04</td>\n      <td>9.27</td>\n      <td>170600</td>\n      <td>9.27</td>\n    </tr>\n    <tr>\n      <th>2020-08-31</th>\n      <td>9.33</td>\n      <td>9.20</td>\n      <td>9.31</td>\n      <td>9.29</td>\n      <td>177800</td>\n      <td>9.29</td>\n    </tr>\n    <tr>\n      <th>2020-09-01</th>\n      <td>9.29</td>\n      <td>9.18</td>\n      <td>9.27</td>\n      <td>9.23</td>\n      <td>200400</td>\n      <td>9.23</td>\n    </tr>\n    <tr>\n      <th>2020-09-02</th>\n      <td>9.22</td>\n      <td>9.04</td>\n      <td>9.13</td>\n      <td>9.22</td>\n      <td>179500</td>\n      <td>9.22</td>\n    </tr>\n  </tbody>\n</table>\n</div>"
     },
     "metadata": {},
     "execution_count": 159
    }
   ],
   "source": [
    "pcrfy_df = pd.DataFrame(wb.DataReader(\"PCRFY\", \n",
    "                                      data_source = \"yahoo\", \n",
    "                                      start = start_date, \n",
    "                                      end = end_date))\n",
    "pcrfy_df = pcrfy_df.dropna()\n",
    "pcrfy_df.head(5)"
   ]
  },
  {
   "cell_type": "markdown",
   "metadata": {},
   "source": [
    "## BMW Stock"
   ]
  },
  {
   "cell_type": "code",
   "execution_count": 160,
   "metadata": {},
   "outputs": [
    {
     "output_type": "execute_result",
     "data": {
      "text/plain": "                 High        Low       Open      Close     Volume  Adj Close\nDate                                                                        \n2020-08-27  60.980000  59.299999  59.500000  59.599998  1836847.0  59.599998\n2020-08-28  60.540001  59.349998  60.070000  59.610001  1090761.0  59.610001\n2020-08-31  61.770000  59.799999  59.799999  60.150002  2133443.0  60.150002\n2020-09-01  61.389999  59.639999  61.259998  60.130001  1566399.0  60.130001\n2020-09-02  61.189999  60.110001  60.709999  60.389999  1404861.0  60.389999",
      "text/html": "<div>\n<style scoped>\n    .dataframe tbody tr th:only-of-type {\n        vertical-align: middle;\n    }\n\n    .dataframe tbody tr th {\n        vertical-align: top;\n    }\n\n    .dataframe thead th {\n        text-align: right;\n    }\n</style>\n<table border=\"1\" class=\"dataframe\">\n  <thead>\n    <tr style=\"text-align: right;\">\n      <th></th>\n      <th>High</th>\n      <th>Low</th>\n      <th>Open</th>\n      <th>Close</th>\n      <th>Volume</th>\n      <th>Adj Close</th>\n    </tr>\n    <tr>\n      <th>Date</th>\n      <th></th>\n      <th></th>\n      <th></th>\n      <th></th>\n      <th></th>\n      <th></th>\n    </tr>\n  </thead>\n  <tbody>\n    <tr>\n      <th>2020-08-27</th>\n      <td>60.980000</td>\n      <td>59.299999</td>\n      <td>59.500000</td>\n      <td>59.599998</td>\n      <td>1836847.0</td>\n      <td>59.599998</td>\n    </tr>\n    <tr>\n      <th>2020-08-28</th>\n      <td>60.540001</td>\n      <td>59.349998</td>\n      <td>60.070000</td>\n      <td>59.610001</td>\n      <td>1090761.0</td>\n      <td>59.610001</td>\n    </tr>\n    <tr>\n      <th>2020-08-31</th>\n      <td>61.770000</td>\n      <td>59.799999</td>\n      <td>59.799999</td>\n      <td>60.150002</td>\n      <td>2133443.0</td>\n      <td>60.150002</td>\n    </tr>\n    <tr>\n      <th>2020-09-01</th>\n      <td>61.389999</td>\n      <td>59.639999</td>\n      <td>61.259998</td>\n      <td>60.130001</td>\n      <td>1566399.0</td>\n      <td>60.130001</td>\n    </tr>\n    <tr>\n      <th>2020-09-02</th>\n      <td>61.189999</td>\n      <td>60.110001</td>\n      <td>60.709999</td>\n      <td>60.389999</td>\n      <td>1404861.0</td>\n      <td>60.389999</td>\n    </tr>\n  </tbody>\n</table>\n</div>"
     },
     "metadata": {},
     "execution_count": 160
    }
   ],
   "source": [
    "bwm_df = pd.DataFrame(wb.DataReader(\"BMW.DE\", \n",
    "                                    data_source = \"yahoo\", \n",
    "                                    start = start_date, \n",
    "                                    end = end_date))\n",
    "bwm_df = bwm_df.dropna()\n",
    "bwm_df.head(5)"
   ]
  },
  {
   "cell_type": "markdown",
   "metadata": {},
   "source": [
    "## Daimler AG Stock"
   ]
  },
  {
   "cell_type": "code",
   "execution_count": 161,
   "metadata": {},
   "outputs": [
    {
     "output_type": "execute_result",
     "data": {
      "text/plain": "                 High        Low       Open      Close     Volume  Adj Close\nDate                                                                        \n2020-08-27  43.785000  42.930000  43.119999  43.000000  3215726.0  43.000000\n2020-08-28  43.465000  42.639999  43.334999  42.880001  2933742.0  42.880001\n2020-08-31  43.435001  42.540001  43.000000  42.645000  3328182.0  42.645000\n2020-09-01  43.224998  41.770000  43.000000  42.674999  3249098.0  42.674999\n2020-09-02  43.369999  42.625000  42.820000  43.080002  3398338.0  43.080002",
      "text/html": "<div>\n<style scoped>\n    .dataframe tbody tr th:only-of-type {\n        vertical-align: middle;\n    }\n\n    .dataframe tbody tr th {\n        vertical-align: top;\n    }\n\n    .dataframe thead th {\n        text-align: right;\n    }\n</style>\n<table border=\"1\" class=\"dataframe\">\n  <thead>\n    <tr style=\"text-align: right;\">\n      <th></th>\n      <th>High</th>\n      <th>Low</th>\n      <th>Open</th>\n      <th>Close</th>\n      <th>Volume</th>\n      <th>Adj Close</th>\n    </tr>\n    <tr>\n      <th>Date</th>\n      <th></th>\n      <th></th>\n      <th></th>\n      <th></th>\n      <th></th>\n      <th></th>\n    </tr>\n  </thead>\n  <tbody>\n    <tr>\n      <th>2020-08-27</th>\n      <td>43.785000</td>\n      <td>42.930000</td>\n      <td>43.119999</td>\n      <td>43.000000</td>\n      <td>3215726.0</td>\n      <td>43.000000</td>\n    </tr>\n    <tr>\n      <th>2020-08-28</th>\n      <td>43.465000</td>\n      <td>42.639999</td>\n      <td>43.334999</td>\n      <td>42.880001</td>\n      <td>2933742.0</td>\n      <td>42.880001</td>\n    </tr>\n    <tr>\n      <th>2020-08-31</th>\n      <td>43.435001</td>\n      <td>42.540001</td>\n      <td>43.000000</td>\n      <td>42.645000</td>\n      <td>3328182.0</td>\n      <td>42.645000</td>\n    </tr>\n    <tr>\n      <th>2020-09-01</th>\n      <td>43.224998</td>\n      <td>41.770000</td>\n      <td>43.000000</td>\n      <td>42.674999</td>\n      <td>3249098.0</td>\n      <td>42.674999</td>\n    </tr>\n    <tr>\n      <th>2020-09-02</th>\n      <td>43.369999</td>\n      <td>42.625000</td>\n      <td>42.820000</td>\n      <td>43.080002</td>\n      <td>3398338.0</td>\n      <td>43.080002</td>\n    </tr>\n  </tbody>\n</table>\n</div>"
     },
     "metadata": {},
     "execution_count": 161
    }
   ],
   "source": [
    "dai_df = pd.DataFrame(wb.DataReader(\"DAI.DE\", \n",
    "                                    data_source = \"yahoo\", \n",
    "                                    start = start_date, \n",
    "                                    end = end_date))\n",
    "dai_df = dai_df.dropna()\n",
    "dai_df.head(5)"
   ]
  },
  {
   "cell_type": "markdown",
   "metadata": {},
   "source": [
    "## XPeng Inc. Stock"
   ]
  },
  {
   "cell_type": "code",
   "execution_count": 162,
   "metadata": {},
   "outputs": [
    {
     "output_type": "execute_result",
     "data": {
      "text/plain": "                 High        Low       Open      Close    Volume  Adj Close\nDate                                                                       \n2020-08-27  25.000000  21.200001  23.100000  21.219999  82219700  21.219999\n2020-08-28  24.400000  22.020000  23.980000  22.790001  44847300  22.790001\n2020-08-31  22.790001  20.330000  22.690001  20.500000  20816000  20.500000\n2020-09-01  21.790001  20.100000  20.980000  21.610001  15291400  21.610001\n2020-09-02  22.000000  20.379999  21.990000  21.090000   9090100  21.090000",
      "text/html": "<div>\n<style scoped>\n    .dataframe tbody tr th:only-of-type {\n        vertical-align: middle;\n    }\n\n    .dataframe tbody tr th {\n        vertical-align: top;\n    }\n\n    .dataframe thead th {\n        text-align: right;\n    }\n</style>\n<table border=\"1\" class=\"dataframe\">\n  <thead>\n    <tr style=\"text-align: right;\">\n      <th></th>\n      <th>High</th>\n      <th>Low</th>\n      <th>Open</th>\n      <th>Close</th>\n      <th>Volume</th>\n      <th>Adj Close</th>\n    </tr>\n    <tr>\n      <th>Date</th>\n      <th></th>\n      <th></th>\n      <th></th>\n      <th></th>\n      <th></th>\n      <th></th>\n    </tr>\n  </thead>\n  <tbody>\n    <tr>\n      <th>2020-08-27</th>\n      <td>25.000000</td>\n      <td>21.200001</td>\n      <td>23.100000</td>\n      <td>21.219999</td>\n      <td>82219700</td>\n      <td>21.219999</td>\n    </tr>\n    <tr>\n      <th>2020-08-28</th>\n      <td>24.400000</td>\n      <td>22.020000</td>\n      <td>23.980000</td>\n      <td>22.790001</td>\n      <td>44847300</td>\n      <td>22.790001</td>\n    </tr>\n    <tr>\n      <th>2020-08-31</th>\n      <td>22.790001</td>\n      <td>20.330000</td>\n      <td>22.690001</td>\n      <td>20.500000</td>\n      <td>20816000</td>\n      <td>20.500000</td>\n    </tr>\n    <tr>\n      <th>2020-09-01</th>\n      <td>21.790001</td>\n      <td>20.100000</td>\n      <td>20.980000</td>\n      <td>21.610001</td>\n      <td>15291400</td>\n      <td>21.610001</td>\n    </tr>\n    <tr>\n      <th>2020-09-02</th>\n      <td>22.000000</td>\n      <td>20.379999</td>\n      <td>21.990000</td>\n      <td>21.090000</td>\n      <td>9090100</td>\n      <td>21.090000</td>\n    </tr>\n  </tbody>\n</table>\n</div>"
     },
     "metadata": {},
     "execution_count": 162
    }
   ],
   "source": [
    "xpev_df = pd.DataFrame(wb.DataReader(\"XPEV\", \n",
    "                                    data_source = \"yahoo\", \n",
    "                                    start = start_date, \n",
    "                                    end = end_date))\n",
    "xpev_df = xpev_df.dropna()\n",
    "xpev_df.head(5)"
   ]
  },
  {
   "cell_type": "markdown",
   "metadata": {},
   "source": [
    "## BYD Company Limited Stock"
   ]
  },
  {
   "cell_type": "code",
   "execution_count": 163,
   "metadata": {},
   "outputs": [
    {
     "output_type": "execute_result",
     "data": {
      "text/plain": "             High    Low   Open  Close  Volume  Adj Close\nDate                                                     \n2020-08-27  10.36  10.00  10.15  10.10  355200      10.10\n2020-08-28  10.27   9.96  10.10  10.20  232200      10.20\n2020-08-31  10.39   9.99  10.05  10.36  598200      10.36\n2020-09-01  11.24  10.93  11.05  11.21  248600      11.21\n2020-09-02  11.24  11.10  11.20  11.17  163800      11.17",
      "text/html": "<div>\n<style scoped>\n    .dataframe tbody tr th:only-of-type {\n        vertical-align: middle;\n    }\n\n    .dataframe tbody tr th {\n        vertical-align: top;\n    }\n\n    .dataframe thead th {\n        text-align: right;\n    }\n</style>\n<table border=\"1\" class=\"dataframe\">\n  <thead>\n    <tr style=\"text-align: right;\">\n      <th></th>\n      <th>High</th>\n      <th>Low</th>\n      <th>Open</th>\n      <th>Close</th>\n      <th>Volume</th>\n      <th>Adj Close</th>\n    </tr>\n    <tr>\n      <th>Date</th>\n      <th></th>\n      <th></th>\n      <th></th>\n      <th></th>\n      <th></th>\n      <th></th>\n    </tr>\n  </thead>\n  <tbody>\n    <tr>\n      <th>2020-08-27</th>\n      <td>10.36</td>\n      <td>10.00</td>\n      <td>10.15</td>\n      <td>10.10</td>\n      <td>355200</td>\n      <td>10.10</td>\n    </tr>\n    <tr>\n      <th>2020-08-28</th>\n      <td>10.27</td>\n      <td>9.96</td>\n      <td>10.10</td>\n      <td>10.20</td>\n      <td>232200</td>\n      <td>10.20</td>\n    </tr>\n    <tr>\n      <th>2020-08-31</th>\n      <td>10.39</td>\n      <td>9.99</td>\n      <td>10.05</td>\n      <td>10.36</td>\n      <td>598200</td>\n      <td>10.36</td>\n    </tr>\n    <tr>\n      <th>2020-09-01</th>\n      <td>11.24</td>\n      <td>10.93</td>\n      <td>11.05</td>\n      <td>11.21</td>\n      <td>248600</td>\n      <td>11.21</td>\n    </tr>\n    <tr>\n      <th>2020-09-02</th>\n      <td>11.24</td>\n      <td>11.10</td>\n      <td>11.20</td>\n      <td>11.17</td>\n      <td>163800</td>\n      <td>11.17</td>\n    </tr>\n  </tbody>\n</table>\n</div>"
     },
     "metadata": {},
     "execution_count": 163
    }
   ],
   "source": [
    "byddf_df = pd.DataFrame(wb.DataReader(\"BYDDF\", \n",
    "                                    data_source = \"yahoo\", \n",
    "                                    start = start_date, \n",
    "                                    end = end_date))\n",
    "byddf_df = byddf_df.dropna()\n",
    "byddf_df.head(5)"
   ]
  },
  {
   "cell_type": "markdown",
   "metadata": {},
   "source": [
    "## Brent Crude Oil Last Day Financ"
   ]
  },
  {
   "cell_type": "code",
   "execution_count": 164,
   "metadata": {},
   "outputs": [
    {
     "output_type": "execute_result",
     "data": {
      "text/plain": "                 High        Low       Open      Close   Volume  Adj Close\nDate                                                                      \n2020-10-02  40.820000  38.790001  40.790001  39.270000  37290.0  39.270000\n2020-10-05  41.779999  39.209999  39.220001  41.290001  30456.0  41.290001\n2020-10-06  42.840000  41.220001  41.520000  42.650002  37426.0  42.650002\n2020-10-07  42.419998  41.360001  41.939999  41.990002  30170.0  41.990002\n2020-10-08  43.470001  41.860001  42.060001  43.340000  33351.0  43.340000",
      "text/html": "<div>\n<style scoped>\n    .dataframe tbody tr th:only-of-type {\n        vertical-align: middle;\n    }\n\n    .dataframe tbody tr th {\n        vertical-align: top;\n    }\n\n    .dataframe thead th {\n        text-align: right;\n    }\n</style>\n<table border=\"1\" class=\"dataframe\">\n  <thead>\n    <tr style=\"text-align: right;\">\n      <th></th>\n      <th>High</th>\n      <th>Low</th>\n      <th>Open</th>\n      <th>Close</th>\n      <th>Volume</th>\n      <th>Adj Close</th>\n    </tr>\n    <tr>\n      <th>Date</th>\n      <th></th>\n      <th></th>\n      <th></th>\n      <th></th>\n      <th></th>\n      <th></th>\n    </tr>\n  </thead>\n  <tbody>\n    <tr>\n      <th>2020-10-02</th>\n      <td>40.820000</td>\n      <td>38.790001</td>\n      <td>40.790001</td>\n      <td>39.270000</td>\n      <td>37290.0</td>\n      <td>39.270000</td>\n    </tr>\n    <tr>\n      <th>2020-10-05</th>\n      <td>41.779999</td>\n      <td>39.209999</td>\n      <td>39.220001</td>\n      <td>41.290001</td>\n      <td>30456.0</td>\n      <td>41.290001</td>\n    </tr>\n    <tr>\n      <th>2020-10-06</th>\n      <td>42.840000</td>\n      <td>41.220001</td>\n      <td>41.520000</td>\n      <td>42.650002</td>\n      <td>37426.0</td>\n      <td>42.650002</td>\n    </tr>\n    <tr>\n      <th>2020-10-07</th>\n      <td>42.419998</td>\n      <td>41.360001</td>\n      <td>41.939999</td>\n      <td>41.990002</td>\n      <td>30170.0</td>\n      <td>41.990002</td>\n    </tr>\n    <tr>\n      <th>2020-10-08</th>\n      <td>43.470001</td>\n      <td>41.860001</td>\n      <td>42.060001</td>\n      <td>43.340000</td>\n      <td>33351.0</td>\n      <td>43.340000</td>\n    </tr>\n  </tbody>\n</table>\n</div>"
     },
     "metadata": {},
     "execution_count": 164
    }
   ],
   "source": [
    "oil_df = pd.DataFrame(wb.DataReader(\"BZ=F\", \n",
    "                                    data_source = \"yahoo\", \n",
    "                                    start = start_date,\n",
    "                                    end = end_date))\n",
    "oil_df = oil_df.dropna()\n",
    "oil_df.head(5)"
   ]
  },
  {
   "cell_type": "markdown",
   "metadata": {},
   "source": [
    "## Number of Tesla vehicles delivered worldwide "
   ]
  },
  {
   "cell_type": "code",
   "execution_count": 134,
   "metadata": {},
   "outputs": [
    {
     "output_type": "execute_result",
     "data": {
      "text/plain": "  Production Model S/X Deliveries Model S/X Production Model 3  \\\n0                14517                17650              72531   \n1                16318                17400              79837   \n2                17933                19450              86958   \n3                15390                12200              87282   \n4                 6326                10600              75946   \n5                16992                15200             128044   \n\n  Deliveries Model 3 Production Total Deliveries Total  \n0              77550            87048            95200  \n1              79600            96155            97000  \n2              92550           104891           112000  \n3              76200           102672            88400  \n4              80050            82272            90650  \n5             124100           145036           139300  ",
      "text/html": "<div>\n<style scoped>\n    .dataframe tbody tr th:only-of-type {\n        vertical-align: middle;\n    }\n\n    .dataframe tbody tr th {\n        vertical-align: top;\n    }\n\n    .dataframe thead th {\n        text-align: right;\n    }\n</style>\n<table border=\"1\" class=\"dataframe\">\n  <thead>\n    <tr style=\"text-align: right;\">\n      <th></th>\n      <th>Production Model S/X</th>\n      <th>Deliveries Model S/X</th>\n      <th>Production Model 3</th>\n      <th>Deliveries Model 3</th>\n      <th>Production Total</th>\n      <th>Deliveries Total</th>\n    </tr>\n  </thead>\n  <tbody>\n    <tr>\n      <th>0</th>\n      <td>14517</td>\n      <td>17650</td>\n      <td>72531</td>\n      <td>77550</td>\n      <td>87048</td>\n      <td>95200</td>\n    </tr>\n    <tr>\n      <th>1</th>\n      <td>16318</td>\n      <td>17400</td>\n      <td>79837</td>\n      <td>79600</td>\n      <td>96155</td>\n      <td>97000</td>\n    </tr>\n    <tr>\n      <th>2</th>\n      <td>17933</td>\n      <td>19450</td>\n      <td>86958</td>\n      <td>92550</td>\n      <td>104891</td>\n      <td>112000</td>\n    </tr>\n    <tr>\n      <th>3</th>\n      <td>15390</td>\n      <td>12200</td>\n      <td>87282</td>\n      <td>76200</td>\n      <td>102672</td>\n      <td>88400</td>\n    </tr>\n    <tr>\n      <th>4</th>\n      <td>6326</td>\n      <td>10600</td>\n      <td>75946</td>\n      <td>80050</td>\n      <td>82272</td>\n      <td>90650</td>\n    </tr>\n    <tr>\n      <th>5</th>\n      <td>16992</td>\n      <td>15200</td>\n      <td>128044</td>\n      <td>124100</td>\n      <td>145036</td>\n      <td>139300</td>\n    </tr>\n  </tbody>\n</table>\n</div>"
     },
     "metadata": {},
     "execution_count": 134
    }
   ],
   "source": [
    "quaters = [\n",
    "    (r'q2', r'2019'),\n",
    "    (r'q3', r'2019'),\n",
    "    (r'q4', r'2019'),\n",
    "    (r'q1', r'2020'),\n",
    "    (r'q2', r'2020'),\n",
    "    (r'q3', r'2020')\n",
    "]\n",
    "\n",
    "deliver_df = list()\n",
    "for q, year in quaters:\n",
    "    url = r'https://ir.tesla.com/press-release/tesla-' + q + r'-' + year + r'-vehicle-production-deliveries'\n",
    "    tables = pd.read_html(url)\n",
    "    tmp = list()\n",
    "    for row in range(1,4):\n",
    "        for col in range(1, 3):\n",
    "            if q == r'q2' and year == r'2019':\n",
    "                tmp.append(tables[0].iloc[row, col + 1])\n",
    "            else:\n",
    "                tmp.append(tables[0].iloc[row, col])\n",
    "    deliver_df.append(tmp)\n",
    "deliver_df = pd.DataFrame(deliver_df,\n",
    "                          columns= [\n",
    "                              \"Production Model S/X\",\n",
    "                              \"Deliveries Model S/X\",\n",
    "                              \"Production Model 3\",\n",
    "                              \"Deliveries Model 3\",\n",
    "                              \"Production Total\",\n",
    "                              \"Deliveries Total\",\n",
    "                         ])\n",
    "deliver_df\n",
    "    "
   ]
  },
  {
   "cell_type": "markdown",
   "metadata": {},
   "source": [
    "## Tesla Revenue"
   ]
  },
  {
   "cell_type": "code",
   "execution_count": 115,
   "metadata": {},
   "outputs": [
    {
     "output_type": "execute_result",
     "data": {
      "text/plain": "  Tesla Quarterly Revenue(Millions of US $)  \\\n0                                2020-09-30   \n1                                2020-06-30   \n2                                2020-03-31   \n3                                2019-12-31   \n4                                2019-09-30   \n\n  Tesla Quarterly Revenue(Millions of US $).1  \n0                                      $8,771  \n1                                      $6,036  \n2                                      $5,985  \n3                                      $7,384  \n4                                      $6,303  ",
      "text/html": "<div>\n<style scoped>\n    .dataframe tbody tr th:only-of-type {\n        vertical-align: middle;\n    }\n\n    .dataframe tbody tr th {\n        vertical-align: top;\n    }\n\n    .dataframe thead th {\n        text-align: right;\n    }\n</style>\n<table border=\"1\" class=\"dataframe\">\n  <thead>\n    <tr style=\"text-align: right;\">\n      <th></th>\n      <th>Tesla Quarterly Revenue(Millions of US $)</th>\n      <th>Tesla Quarterly Revenue(Millions of US $).1</th>\n    </tr>\n  </thead>\n  <tbody>\n    <tr>\n      <th>0</th>\n      <td>2020-09-30</td>\n      <td>$8,771</td>\n    </tr>\n    <tr>\n      <th>1</th>\n      <td>2020-06-30</td>\n      <td>$6,036</td>\n    </tr>\n    <tr>\n      <th>2</th>\n      <td>2020-03-31</td>\n      <td>$5,985</td>\n    </tr>\n    <tr>\n      <th>3</th>\n      <td>2019-12-31</td>\n      <td>$7,384</td>\n    </tr>\n    <tr>\n      <th>4</th>\n      <td>2019-09-30</td>\n      <td>$6,303</td>\n    </tr>\n  </tbody>\n</table>\n</div>"
     },
     "metadata": {},
     "execution_count": 115
    }
   ],
   "source": [
    "revenue_df = pd.read_html(r'https://www.macrotrends.net/stocks/charts/TSLA/tesla/revenue')\n",
    "revenue_df = revenue_df[1]\n",
    "revenue_df.dropna(how = \"any\")\n",
    "revenue_df.head(5)"
   ]
  },
  {
   "cell_type": "markdown",
   "metadata": {},
   "source": [
    "# Data Cleaning\n",
    "\n",
    "Currently, the data used includes:\n",
    "\n",
    "1. Tesla Stock `tsla_df`\n",
    "2. Dow Jones Index Average `djia_df`\n",
    "3. Federal Funds Rate `dff_df`\n",
    "4. Panasonic Corp. Stock `pcrfy_df`\n",
    "5. BMW Stock `bwm_df`\n",
    "6. Daimler AG Stock `dai_df`\n",
    "7. XPeng Inc. Stock `xpev_df`\n",
    "8. BYD Company Limited Stock `byddf_df`\n",
    "9. Brent Crude Oil Last Day Financ `oil_df`\n",
    "10. Number of Tesla vehicles delivered worldwide `deliver_df`\n",
    "11. Tesla Revenue `revenue_df`\n",
    "\n",
    "Actually, in the last section, we have done a bit of data Cleaning, like\n",
    "\n",
    "1. drop nan/missing values \n",
    "2. reset the index of dataframe to include `date` as one column in the dataframe\n",
    "\n",
    "However, we still need to do more:\n",
    "\n",
    "1. Renaming columns to a more recognizable set of labels \n",
    "2. Dropping unnecessary columns in a DataFrame\n",
    "3. do some more modification on `deliver_df` and `revenue_df`\n",
    "4. Combine all these dataframe to a complete DataFrame\n",
    "\n",
    "## Clean `revenue_df`"
   ]
  },
  {
   "cell_type": "code",
   "execution_count": 116,
   "metadata": {},
   "outputs": [
    {
     "output_type": "stream",
     "name": "stdout",
     "text": "WARNING: for revenue_df, column: Tesla Quarterly Revenue(Millions of US $) appears missing values\n"
    },
    {
     "output_type": "execute_result",
     "data": {
      "text/plain": "        Date  Tesla Quarterly Revenue(Millions of US $)\n4 2019-09-30                                     6303.0\n3 2019-12-31                                     7384.0\n2 2020-03-31                                     5985.0\n1 2020-06-30                                     6036.0\n0 2020-09-30                                     8771.0",
      "text/html": "<div>\n<style scoped>\n    .dataframe tbody tr th:only-of-type {\n        vertical-align: middle;\n    }\n\n    .dataframe tbody tr th {\n        vertical-align: top;\n    }\n\n    .dataframe thead th {\n        text-align: right;\n    }\n</style>\n<table border=\"1\" class=\"dataframe\">\n  <thead>\n    <tr style=\"text-align: right;\">\n      <th></th>\n      <th>Date</th>\n      <th>Tesla Quarterly Revenue(Millions of US $)</th>\n    </tr>\n  </thead>\n  <tbody>\n    <tr>\n      <th>4</th>\n      <td>2019-09-30</td>\n      <td>6303.0</td>\n    </tr>\n    <tr>\n      <th>3</th>\n      <td>2019-12-31</td>\n      <td>7384.0</td>\n    </tr>\n    <tr>\n      <th>2</th>\n      <td>2020-03-31</td>\n      <td>5985.0</td>\n    </tr>\n    <tr>\n      <th>1</th>\n      <td>2020-06-30</td>\n      <td>6036.0</td>\n    </tr>\n    <tr>\n      <th>0</th>\n      <td>2020-09-30</td>\n      <td>8771.0</td>\n    </tr>\n  </tbody>\n</table>\n</div>"
     },
     "metadata": {},
     "execution_count": 116
    }
   ],
   "source": [
    "# rename the dataframe\n",
    "revenue_df.columns = [\"Date\", \"Tesla Quarterly Revenue(Millions of US $)\"]\n",
    "\n",
    "# drop rows with missing values\n",
    "for col in revenue_df.columns:\n",
    "    if np.sum(revenue_df[col].isna()) != 0:\n",
    "        print(\"WARNING: for revenue_df, column: \" + col + \" appears missing values\")\n",
    "        revenue_df = revenue_df[revenue_df[col].notna()]\n",
    "\n",
    "# transfer data type of \"Date\" from string to TimeStamp\n",
    "revenue_df[\"Date\"] = revenue_df[\"Date\"].map(pd.Timestamp)\n",
    "\n",
    "# transfer data type of \"Tesla Quarterly Revenue(Millions of US $)\" from string to decimal\n",
    "def doller2decimal(target):\n",
    "    return float(target.replace(\",\", \"\").replace(\"$\", \"\"))\n",
    "revenue_df[\"Tesla Quarterly Revenue(Millions of US $)\"] = revenue_df[\"Tesla Quarterly Revenue(Millions of US $)\"].apply(doller2decimal)\n",
    "\n",
    "# reorder the revenue_df to ascending order by Date\n",
    "revenue_df = revenue_df.sort_values(by = [\"Date\"], ascending = True)\n",
    "\n",
    "revenue_df.tail(5)\n"
   ]
  },
  {
   "cell_type": "markdown",
   "metadata": {},
   "source": [
    "## Clean `deliver_df`"
   ]
  },
  {
   "cell_type": "code",
   "execution_count": 135,
   "metadata": {},
   "outputs": [
    {
     "output_type": "execute_result",
     "data": {
      "text/plain": "        Date Production Model S/X Deliveries Model S/X Production Model 3  \\\n0 2019-06-30                14517                17650              72531   \n1 2019-09-30                16318                17400              79837   \n2 2019-12-31                17933                19450              86958   \n3 2020-03-31                15390                12200              87282   \n4 2020-06-30                 6326                10600              75946   \n5 2020-09-30                16992                15200             128044   \n\n  Deliveries Model 3 Production Total Deliveries Total  \n0              77550            87048            95200  \n1              79600            96155            97000  \n2              92550           104891           112000  \n3              76200           102672            88400  \n4              80050            82272            90650  \n5             124100           145036           139300  ",
      "text/html": "<div>\n<style scoped>\n    .dataframe tbody tr th:only-of-type {\n        vertical-align: middle;\n    }\n\n    .dataframe tbody tr th {\n        vertical-align: top;\n    }\n\n    .dataframe thead th {\n        text-align: right;\n    }\n</style>\n<table border=\"1\" class=\"dataframe\">\n  <thead>\n    <tr style=\"text-align: right;\">\n      <th></th>\n      <th>Date</th>\n      <th>Production Model S/X</th>\n      <th>Deliveries Model S/X</th>\n      <th>Production Model 3</th>\n      <th>Deliveries Model 3</th>\n      <th>Production Total</th>\n      <th>Deliveries Total</th>\n    </tr>\n  </thead>\n  <tbody>\n    <tr>\n      <th>0</th>\n      <td>2019-06-30</td>\n      <td>14517</td>\n      <td>17650</td>\n      <td>72531</td>\n      <td>77550</td>\n      <td>87048</td>\n      <td>95200</td>\n    </tr>\n    <tr>\n      <th>1</th>\n      <td>2019-09-30</td>\n      <td>16318</td>\n      <td>17400</td>\n      <td>79837</td>\n      <td>79600</td>\n      <td>96155</td>\n      <td>97000</td>\n    </tr>\n    <tr>\n      <th>2</th>\n      <td>2019-12-31</td>\n      <td>17933</td>\n      <td>19450</td>\n      <td>86958</td>\n      <td>92550</td>\n      <td>104891</td>\n      <td>112000</td>\n    </tr>\n    <tr>\n      <th>3</th>\n      <td>2020-03-31</td>\n      <td>15390</td>\n      <td>12200</td>\n      <td>87282</td>\n      <td>76200</td>\n      <td>102672</td>\n      <td>88400</td>\n    </tr>\n    <tr>\n      <th>4</th>\n      <td>2020-06-30</td>\n      <td>6326</td>\n      <td>10600</td>\n      <td>75946</td>\n      <td>80050</td>\n      <td>82272</td>\n      <td>90650</td>\n    </tr>\n    <tr>\n      <th>5</th>\n      <td>2020-09-30</td>\n      <td>16992</td>\n      <td>15200</td>\n      <td>128044</td>\n      <td>124100</td>\n      <td>145036</td>\n      <td>139300</td>\n    </tr>\n  </tbody>\n</table>\n</div>"
     },
     "metadata": {},
     "execution_count": 135
    }
   ],
   "source": [
    "# add \"Date\" to the dataframe deliver_df\n",
    "deliver_df[\"Date\"] = revenue_df[\"Date\"][-len(deliver_df):].reset_index()[\"Date\"]\n",
    "deliver_df = deliver_df[deliver_df.columns.to_list()[-1:] + deliver_df.columns.to_list()[:-1]] # reorder the columns\n",
    "\n",
    "deliver_df"
   ]
  }
 ],
 "metadata": {
  "language_info": {
   "codemirror_mode": {
    "name": "ipython",
    "version": 3
   },
   "file_extension": ".py",
   "mimetype": "text/x-python",
   "name": "python",
   "nbconvert_exporter": "python",
   "pygments_lexer": "ipython3",
   "version": "3.7.6-final"
  },
  "orig_nbformat": 2,
  "kernelspec": {
   "name": "python3",
   "display_name": "Python 3"
  }
 },
 "nbformat": 4,
 "nbformat_minor": 2
}