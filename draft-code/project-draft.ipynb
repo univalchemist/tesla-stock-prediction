{
 "cells": [
  {
   "cell_type": "markdown",
   "metadata": {},
   "source": [
    "# Dependency"
   ]
  },
  {
   "cell_type": "code",
   "execution_count": 4,
   "metadata": {},
   "outputs": [],
   "source": [
    "import pandas as pd\n",
    "import numpy as np\n",
    "from pandas_datareader import data as wb # datareader supports multiple financial database including yahoo and google\n",
    "import datetime\n",
    "from dateutil.relativedelta import relativedelta\n",
    "import GetOldTweets3 as tws\n",
    "import tweepy"
   ]
  },
  {
   "source": [
    "# Data Source\n",
    "## Start & End Date"
   ],
   "cell_type": "markdown",
   "metadata": {}
  },
  {
   "cell_type": "code",
   "execution_count": 5,
   "metadata": {},
   "outputs": [],
   "source": [
    "date_rang_month = 3\n",
    "start_date = datetime.date.today() + relativedelta(months=-date_rang_month)\n",
    "end_date = datetime.date.today()"
   ]
  },
  {
   "cell_type": "markdown",
   "metadata": {},
   "source": [
    "## Stock Data"
   ]
  },
  {
   "cell_type": "code",
   "execution_count": 46,
   "metadata": {},
   "outputs": [],
   "source": [
    "tickers = \\\n",
    "[\n",
    "    (\"TSLA\", \"yahoo\"), # 0, TESLA Stock\n",
    "    (\"DJIA\", \"fred\"), # 1, Dow Jones Index Average\n",
    "    (\"DFF\", \"fred\"), # 2, Federal Funds Rate\n",
    "    (\"PCRFY\", \"yahoo\"), # 3, Panasonic Corp. Stock\n",
    "    (\"BMW.DE\", \"yahoo\"), # 4, BMW Stock\n",
    "    (\"DAI.DE\", \"yahoo\"), # 5, Daimler AG Stock\n",
    "    (\"XPEV\", \"yahoo\"), # 6, XPeng Inc. Stock\n",
    "    (\"BYDDF\", \"yahoo\"), # 7, BYD Company Limited Stock\n",
    "    (\"BZ=F\", \"yahoo\") # 8, Brent Crude Oil Last Day Financ\n",
    "]\n",
    "\n",
    "stock_dfs = list()\n",
    "for ticker, source in tickers:\n",
    "    if source == \"fred\":\n",
    "        df = pd.DataFrame(wb.DataReader(ticker, \n",
    "                                        data_source = source, \n",
    "                                        start = start_date + relativedelta(days = -1), \n",
    "                                        end = end_date))\n",
    "    else:\n",
    "        df = pd.DataFrame(wb.DataReader(ticker, \n",
    "                                        data_source = source, \n",
    "                                        start = start_date, \n",
    "                                        end = end_date))\n",
    "    stock_dfs.append(df)"
   ]
  },
  {
   "cell_type": "markdown",
   "metadata": {},
   "source": [
    "## Number of Tesla vehicles delivered worldwide "
   ]
  },
  {
   "cell_type": "code",
   "execution_count": 44,
   "metadata": {},
   "outputs": [
    {
     "output_type": "execute_result",
     "data": {
      "text/plain": "  Production Model S/X Deliveries Model S/X Production Model 3  \\\n0                14517                17650              72531   \n1                16318                17400              79837   \n2                17933                19450              86958   \n3                15390                12200              87282   \n4                 6326                10600              75946   \n5                16992                15200             128044   \n\n  Deliveries Model 3 Production Total Deliveries Total  \n0              77550            87048            95200  \n1              79600            96155            97000  \n2              92550           104891           112000  \n3              76200           102672            88400  \n4              80050            82272            90650  \n5             124100           145036           139300  ",
      "text/html": "<div>\n<style scoped>\n    .dataframe tbody tr th:only-of-type {\n        vertical-align: middle;\n    }\n\n    .dataframe tbody tr th {\n        vertical-align: top;\n    }\n\n    .dataframe thead th {\n        text-align: right;\n    }\n</style>\n<table border=\"1\" class=\"dataframe\">\n  <thead>\n    <tr style=\"text-align: right;\">\n      <th></th>\n      <th>Production Model S/X</th>\n      <th>Deliveries Model S/X</th>\n      <th>Production Model 3</th>\n      <th>Deliveries Model 3</th>\n      <th>Production Total</th>\n      <th>Deliveries Total</th>\n    </tr>\n  </thead>\n  <tbody>\n    <tr>\n      <th>0</th>\n      <td>14517</td>\n      <td>17650</td>\n      <td>72531</td>\n      <td>77550</td>\n      <td>87048</td>\n      <td>95200</td>\n    </tr>\n    <tr>\n      <th>1</th>\n      <td>16318</td>\n      <td>17400</td>\n      <td>79837</td>\n      <td>79600</td>\n      <td>96155</td>\n      <td>97000</td>\n    </tr>\n    <tr>\n      <th>2</th>\n      <td>17933</td>\n      <td>19450</td>\n      <td>86958</td>\n      <td>92550</td>\n      <td>104891</td>\n      <td>112000</td>\n    </tr>\n    <tr>\n      <th>3</th>\n      <td>15390</td>\n      <td>12200</td>\n      <td>87282</td>\n      <td>76200</td>\n      <td>102672</td>\n      <td>88400</td>\n    </tr>\n    <tr>\n      <th>4</th>\n      <td>6326</td>\n      <td>10600</td>\n      <td>75946</td>\n      <td>80050</td>\n      <td>82272</td>\n      <td>90650</td>\n    </tr>\n    <tr>\n      <th>5</th>\n      <td>16992</td>\n      <td>15200</td>\n      <td>128044</td>\n      <td>124100</td>\n      <td>145036</td>\n      <td>139300</td>\n    </tr>\n  </tbody>\n</table>\n</div>"
     },
     "metadata": {},
     "execution_count": 44
    }
   ],
   "source": [
    "quaters = [\n",
    "    (r'q2', r'2019'),\n",
    "    (r'q3', r'2019'),\n",
    "    (r'q4', r'2019'),\n",
    "    (r'q1', r'2020'),\n",
    "    (r'q2', r'2020'),\n",
    "    (r'q3', r'2020')\n",
    "]\n",
    "\n",
    "deliver_df = list()\n",
    "for q, year in quaters:\n",
    "    url = r'https://ir.tesla.com/press-release/tesla-' + q + r'-' + year + r'-vehicle-production-deliveries'\n",
    "    tables = pd.read_html(url)\n",
    "    tmp = list()\n",
    "    for row in range(1,4):\n",
    "        for col in range(1, 3):\n",
    "            if q == r'q2' and year == r'2019':\n",
    "                tmp.append(tables[0].iloc[row, col + 1])\n",
    "            else:\n",
    "                tmp.append(tables[0].iloc[row, col])\n",
    "    deliver_df.append(tmp)\n",
    "deliver_df = pd.DataFrame(deliver_df,\n",
    "                          columns= [\n",
    "                              \"Production Model S/X\",\n",
    "                              \"Deliveries Model S/X\",\n",
    "                              \"Production Model 3\",\n",
    "                              \"Deliveries Model 3\",\n",
    "                              \"Production Total\",\n",
    "                              \"Deliveries Total\",\n",
    "                         ])\n",
    "deliver_df\n",
    "    "
   ]
  },
  {
   "cell_type": "markdown",
   "metadata": {},
   "source": [
    "## Tesla Revenue"
   ]
  },
  {
   "cell_type": "code",
   "execution_count": 45,
   "metadata": {},
   "outputs": [
    {
     "output_type": "execute_result",
     "data": {
      "text/plain": "  Tesla Quarterly Revenue(Millions of US $)  \\\n0                                2020-09-30   \n1                                2020-06-30   \n2                                2020-03-31   \n3                                2019-12-31   \n4                                2019-09-30   \n\n  Tesla Quarterly Revenue(Millions of US $).1  \n0                                      $8,771  \n1                                      $6,036  \n2                                      $5,985  \n3                                      $7,384  \n4                                      $6,303  ",
      "text/html": "<div>\n<style scoped>\n    .dataframe tbody tr th:only-of-type {\n        vertical-align: middle;\n    }\n\n    .dataframe tbody tr th {\n        vertical-align: top;\n    }\n\n    .dataframe thead th {\n        text-align: right;\n    }\n</style>\n<table border=\"1\" class=\"dataframe\">\n  <thead>\n    <tr style=\"text-align: right;\">\n      <th></th>\n      <th>Tesla Quarterly Revenue(Millions of US $)</th>\n      <th>Tesla Quarterly Revenue(Millions of US $).1</th>\n    </tr>\n  </thead>\n  <tbody>\n    <tr>\n      <th>0</th>\n      <td>2020-09-30</td>\n      <td>$8,771</td>\n    </tr>\n    <tr>\n      <th>1</th>\n      <td>2020-06-30</td>\n      <td>$6,036</td>\n    </tr>\n    <tr>\n      <th>2</th>\n      <td>2020-03-31</td>\n      <td>$5,985</td>\n    </tr>\n    <tr>\n      <th>3</th>\n      <td>2019-12-31</td>\n      <td>$7,384</td>\n    </tr>\n    <tr>\n      <th>4</th>\n      <td>2019-09-30</td>\n      <td>$6,303</td>\n    </tr>\n  </tbody>\n</table>\n</div>"
     },
     "metadata": {},
     "execution_count": 45
    }
   ],
   "source": [
    "revenue_df = pd.read_html(r'https://www.macrotrends.net/stocks/charts/TSLA/tesla/revenue')\n",
    "revenue_df = revenue_df[1]\n",
    "revenue_df.dropna(how = \"any\")\n",
    "revenue_df.head(5)"
   ]
  },
  {
   "cell_type": "markdown",
   "metadata": {},
   "source": [
    "# Data Cleaning\n",
    "\n",
    "Currently, the data used includes:\n",
    "\n",
    "1. Tesla Stock `tsla_df`\n",
    "2. Dow Jones Index Average `djia_df`\n",
    "3. Federal Funds Rate `dff_df`\n",
    "4. Panasonic Corp. Stock `pcrfy_df`\n",
    "5. BMW Stock `bwm_df`\n",
    "6. Daimler AG Stock `dai_df`\n",
    "7. XPeng Inc. Stock `xpev_df`\n",
    "8. BYD Company Limited Stock `byddf_df`\n",
    "9. Brent Crude Oil Last Day Financ `oil_df`\n",
    "10. Number of Tesla vehicles delivered worldwide `deliver_df`\n",
    "11. Tesla Revenue `revenue_df`\n",
    "\n",
    "Actually, in the last section, we have done a bit of data Cleaning, like\n",
    "\n",
    "1. drop nan/missing values \n",
    "2. reset the index of dataframe to include `date` as one column in the dataframe\n",
    "\n",
    "However, we still need to do more:\n",
    "\n",
    "1. Renaming columns to a more recognizable set of labels \n",
    "2. Dropping unnecessary columns in a DataFrame\n",
    "3. do some more modification on `deliver_df` and `revenue_df`\n",
    "4. Combine all these dataframe to a complete DataFrame\n",
    "\n",
    "## Clean `revenue_df`"
   ]
  },
  {
   "cell_type": "code",
   "execution_count": 47,
   "metadata": {},
   "outputs": [
    {
     "output_type": "stream",
     "name": "stdout",
     "text": "WARNING: for revenue_df, column: Tesla Quarterly Revenue(Millions of US $) appears missing values\n"
    },
    {
     "output_type": "execute_result",
     "data": {
      "text/plain": "        Date  Tesla Quarterly Revenue(Millions of US $)\n4 2019-09-30                                     6303.0\n3 2019-12-31                                     7384.0\n2 2020-03-31                                     5985.0\n1 2020-06-30                                     6036.0\n0 2020-09-30                                     8771.0",
      "text/html": "<div>\n<style scoped>\n    .dataframe tbody tr th:only-of-type {\n        vertical-align: middle;\n    }\n\n    .dataframe tbody tr th {\n        vertical-align: top;\n    }\n\n    .dataframe thead th {\n        text-align: right;\n    }\n</style>\n<table border=\"1\" class=\"dataframe\">\n  <thead>\n    <tr style=\"text-align: right;\">\n      <th></th>\n      <th>Date</th>\n      <th>Tesla Quarterly Revenue(Millions of US $)</th>\n    </tr>\n  </thead>\n  <tbody>\n    <tr>\n      <th>4</th>\n      <td>2019-09-30</td>\n      <td>6303.0</td>\n    </tr>\n    <tr>\n      <th>3</th>\n      <td>2019-12-31</td>\n      <td>7384.0</td>\n    </tr>\n    <tr>\n      <th>2</th>\n      <td>2020-03-31</td>\n      <td>5985.0</td>\n    </tr>\n    <tr>\n      <th>1</th>\n      <td>2020-06-30</td>\n      <td>6036.0</td>\n    </tr>\n    <tr>\n      <th>0</th>\n      <td>2020-09-30</td>\n      <td>8771.0</td>\n    </tr>\n  </tbody>\n</table>\n</div>"
     },
     "metadata": {},
     "execution_count": 47
    }
   ],
   "source": [
    "# rename the dataframe\n",
    "revenue_df.columns = [\"Date\", \"Tesla Quarterly Revenue(Millions of US $)\"]\n",
    "\n",
    "# drop rows with missing values\n",
    "for col in revenue_df.columns:\n",
    "    if np.sum(revenue_df[col].isna()) != 0:\n",
    "        print(\"WARNING: for revenue_df, column: \" + col + \" appears missing values\")\n",
    "        revenue_df = revenue_df[revenue_df[col].notna()]\n",
    "\n",
    "# transfer data type of \"Date\" from string to TimeStamp\n",
    "revenue_df[\"Date\"] = revenue_df[\"Date\"].map(pd.Timestamp)\n",
    "\n",
    "# transfer data type of \"Tesla Quarterly Revenue(Millions of US $)\" from string to decimal\n",
    "def doller2decimal(target):\n",
    "    return float(target.replace(\",\", \"\").replace(\"$\", \"\"))\n",
    "revenue_df[\"Tesla Quarterly Revenue(Millions of US $)\"] = revenue_df[\"Tesla Quarterly Revenue(Millions of US $)\"].apply(doller2decimal)\n",
    "\n",
    "# reorder the revenue_df to ascending order by Date\n",
    "revenue_df = revenue_df.sort_values(by = [\"Date\"], ascending = True)\n",
    "\n",
    "revenue_df.tail(5)\n"
   ]
  },
  {
   "cell_type": "markdown",
   "metadata": {},
   "source": [
    "## Clean `deliver_df`"
   ]
  },
  {
   "cell_type": "code",
   "execution_count": 48,
   "metadata": {},
   "outputs": [
    {
     "output_type": "execute_result",
     "data": {
      "text/plain": "        Date Production Model S/X Deliveries Model S/X Production Model 3  \\\n0 2019-06-30                14517                17650              72531   \n1 2019-09-30                16318                17400              79837   \n2 2019-12-31                17933                19450              86958   \n3 2020-03-31                15390                12200              87282   \n4 2020-06-30                 6326                10600              75946   \n5 2020-09-30                16992                15200             128044   \n\n  Deliveries Model 3 Production Total Deliveries Total  \n0              77550            87048            95200  \n1              79600            96155            97000  \n2              92550           104891           112000  \n3              76200           102672            88400  \n4              80050            82272            90650  \n5             124100           145036           139300  ",
      "text/html": "<div>\n<style scoped>\n    .dataframe tbody tr th:only-of-type {\n        vertical-align: middle;\n    }\n\n    .dataframe tbody tr th {\n        vertical-align: top;\n    }\n\n    .dataframe thead th {\n        text-align: right;\n    }\n</style>\n<table border=\"1\" class=\"dataframe\">\n  <thead>\n    <tr style=\"text-align: right;\">\n      <th></th>\n      <th>Date</th>\n      <th>Production Model S/X</th>\n      <th>Deliveries Model S/X</th>\n      <th>Production Model 3</th>\n      <th>Deliveries Model 3</th>\n      <th>Production Total</th>\n      <th>Deliveries Total</th>\n    </tr>\n  </thead>\n  <tbody>\n    <tr>\n      <th>0</th>\n      <td>2019-06-30</td>\n      <td>14517</td>\n      <td>17650</td>\n      <td>72531</td>\n      <td>77550</td>\n      <td>87048</td>\n      <td>95200</td>\n    </tr>\n    <tr>\n      <th>1</th>\n      <td>2019-09-30</td>\n      <td>16318</td>\n      <td>17400</td>\n      <td>79837</td>\n      <td>79600</td>\n      <td>96155</td>\n      <td>97000</td>\n    </tr>\n    <tr>\n      <th>2</th>\n      <td>2019-12-31</td>\n      <td>17933</td>\n      <td>19450</td>\n      <td>86958</td>\n      <td>92550</td>\n      <td>104891</td>\n      <td>112000</td>\n    </tr>\n    <tr>\n      <th>3</th>\n      <td>2020-03-31</td>\n      <td>15390</td>\n      <td>12200</td>\n      <td>87282</td>\n      <td>76200</td>\n      <td>102672</td>\n      <td>88400</td>\n    </tr>\n    <tr>\n      <th>4</th>\n      <td>2020-06-30</td>\n      <td>6326</td>\n      <td>10600</td>\n      <td>75946</td>\n      <td>80050</td>\n      <td>82272</td>\n      <td>90650</td>\n    </tr>\n    <tr>\n      <th>5</th>\n      <td>2020-09-30</td>\n      <td>16992</td>\n      <td>15200</td>\n      <td>128044</td>\n      <td>124100</td>\n      <td>145036</td>\n      <td>139300</td>\n    </tr>\n  </tbody>\n</table>\n</div>"
     },
     "metadata": {},
     "execution_count": 48
    }
   ],
   "source": [
    "# add \"Date\" to the dataframe deliver_df\n",
    "deliver_df[\"Date\"] = revenue_df[\"Date\"][-len(deliver_df):].reset_index()[\"Date\"]\n",
    "deliver_df = deliver_df[deliver_df.columns.to_list()[-1:] + deliver_df.columns.to_list()[:-1]] # reorder the columns\n",
    "\n",
    "deliver_df"
   ]
  },
  {
   "cell_type": "markdown",
   "metadata": {},
   "source": [
    "## Clean & Combine Stocks DFs"
   ]
  },
  {
   "cell_type": "code",
   "execution_count": 33,
   "metadata": {},
   "outputs": [
    {
     "output_type": "stream",
     "name": "stdout",
     "text": "High\nLow\nOpen\nClose\nVolume\nAdj Close\nDJIA\nDFF\nHigh\nLow\nOpen\nClose\nVolume\nAdj Close\nHigh\nLow\nOpen\nClose\nVolume\nAdj Close\nHigh\nLow\nOpen\nClose\nVolume\nAdj Close\nHigh\nLow\nOpen\nClose\nVolume\nAdj Close\nHigh\nLow\nOpen\nClose\nVolume\nAdj Close\n"
    }
   ],
   "source": [
    "# construct a list including all the dataframe for stock data, federal funds rate and Dow Jones index\n",
    "\n",
    "for df in stock_dfs:\n",
    "    new_col_names = list()\n",
    "    for col in df.columns.to_list():\n",
    "\n",
    "        "
   ]
  },
  {
   "cell_type": "code",
   "execution_count": null,
   "metadata": {},
   "outputs": [],
   "source": []
  }
 ],
 "metadata": {
  "language_info": {
   "codemirror_mode": {
    "name": "ipython",
    "version": 3
   },
   "file_extension": ".py",
   "mimetype": "text/x-python",
   "name": "python",
   "nbconvert_exporter": "python",
   "pygments_lexer": "ipython3",
   "version": "3.7.6-final"
  },
  "orig_nbformat": 2,
  "kernelspec": {
   "name": "python3",
   "display_name": "Python 3"
  }
 },
 "nbformat": 4,
 "nbformat_minor": 2
}