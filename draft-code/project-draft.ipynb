{
 "cells": [
  {
   "cell_type": "markdown",
   "metadata": {},
   "source": [
    "# Dependency"
   ]
  },
  {
   "cell_type": "code",
   "execution_count": 167,
   "metadata": {},
   "outputs": [],
   "source": [
    "import pandas as pd\n",
    "import numpy as np\n",
    "from pandas_datareader import data as wb # datareader supports multiple financial database including yahoo and google\n",
    "import datetime\n",
    "from dateutil.relativedelta import relativedelta\n",
    "import GetOldTweets3 as tws\n",
    "import tweepy\n",
    "import matplotlib.pyplot as plt\n",
    "\n",
    "%matplotlib inline"
   ]
  },
  {
   "source": [
    "# Data Fetching\n",
    "## Start & End Date"
   ],
   "cell_type": "markdown",
   "metadata": {}
  },
  {
   "cell_type": "code",
   "execution_count": 170,
   "metadata": {},
   "outputs": [],
   "source": [
    "date_rang_month = 3\n",
    "start_date = datetime.date.today() + relativedelta(months=-date_rang_month)\n",
    "end_date = datetime.date.today()"
   ]
  },
  {
   "cell_type": "markdown",
   "metadata": {},
   "source": [
    "## Stock Data"
   ]
  },
  {
   "cell_type": "code",
   "execution_count": null,
   "metadata": {},
   "outputs": [],
   "source": [
    "tickers = \\\n",
    "[\n",
    "    (\"TSLA\", \"yahoo\"), # 0, TESLA Stock\n",
    "    (\"DJIA\", \"fred\"), # 1, Dow Jones Index Average\n",
    "    (\"DFF\", \"fred\"), # 2, Federal Funds Rate\n",
    "    (\"PCRFY\", \"yahoo\"), # 3, Panasonic Corp. Stock\n",
    "    (\"BMW.DE\", \"yahoo\"), # 4, BMW Stock\n",
    "    (\"DAI.DE\", \"yahoo\"), # 5, Daimler AG Stock\n",
    "    (\"XPEV\", \"yahoo\"), # 6, XPeng Inc. Stock\n",
    "    (\"BYDDF\", \"yahoo\"), # 7, BYD Company Limited Stock\n",
    "    (\"BZ=F\", \"yahoo\") # 8, Brent Crude Oil Last Day Finance\n",
    "]\n",
    "\n",
    "stock_dfs = list()\n",
    "for ticker, source in tickers:\n",
    "    if source == \"fred\":\n",
    "        df = pd.DataFrame(wb.DataReader(ticker, \n",
    "                                        data_source = source, \n",
    "                                        start = start_date + relativedelta(days = -1), \n",
    "                                        end = end_date))\n",
    "    else:\n",
    "        df = pd.DataFrame(wb.DataReader(ticker, \n",
    "                                        data_source = source, \n",
    "                                        start = start_date, \n",
    "                                        end = end_date))\n",
    "    stock_dfs.append(df)\n",
    "\n",
    "oil_df = stock_dfs[len(stock_dfs) - 1] # give another name to the df for Brent Crude Oil Last Day Finance"
   ]
  },
  {
   "cell_type": "markdown",
   "metadata": {},
   "source": [
    "## Number of Tesla vehicles delivered worldwide "
   ]
  },
  {
   "cell_type": "code",
   "execution_count": 168,
   "metadata": {},
   "outputs": [],
   "source": [
    "quaters = [\n",
    "    (r'q2', r'2019'),\n",
    "    (r'q3', r'2019'),\n",
    "    (r'q4', r'2019'),\n",
    "    (r'q1', r'2020'),\n",
    "    (r'q2', r'2020'),\n",
    "    (r'q3', r'2020')\n",
    "]\n",
    "\n",
    "deliver_df = list()\n",
    "for q, year in quaters:\n",
    "    url = r'https://ir.tesla.com/press-release/tesla-' + q + r'-' + year + r'-vehicle-production-deliveries'\n",
    "    tables = pd.read_html(url)\n",
    "    tmp = list()\n",
    "    for row in range(1,4):\n",
    "        for col in range(1, 3):\n",
    "            if q == r'q2' and year == r'2019':\n",
    "                tmp.append(tables[0].iloc[row, col + 1])\n",
    "            else:\n",
    "                tmp.append(tables[0].iloc[row, col])\n",
    "    deliver_df.append(tmp)\n",
    "deliver_df = pd.DataFrame(deliver_df,\n",
    "                          columns= [\n",
    "                              \"Production Model S/X\",\n",
    "                              \"Deliveries Model S/X\",\n",
    "                              \"Production Model 3\",\n",
    "                              \"Deliveries Model 3\",\n",
    "                              \"Production Total\",\n",
    "                              \"Deliveries Total\",\n",
    "                         ])\n",
    "# deliver_df"
   ]
  },
  {
   "cell_type": "markdown",
   "metadata": {},
   "source": [
    "## Tesla Revenue"
   ]
  },
  {
   "cell_type": "code",
   "execution_count": 171,
   "metadata": {},
   "outputs": [],
   "source": [
    "revenue_df = pd.read_html(r'https://www.macrotrends.net/stocks/charts/TSLA/tesla/revenue')\n",
    "revenue_df = revenue_df[1]"
   ]
  },
  {
   "cell_type": "markdown",
   "metadata": {},
   "source": [
    "# Data Cleaning\n",
    "\n",
    "Currently, the data used includes:\n",
    "\n",
    "1. Tesla Stock `tsla_df`\n",
    "2. Dow Jones Index Average `djia_df`\n",
    "3. Federal Funds Rate `dff_df`\n",
    "4. Panasonic Corp. Stock `pcrfy_df`\n",
    "5. BMW Stock `bwm_df`\n",
    "6. Daimler AG Stock `dai_df`\n",
    "7. XPeng Inc. Stock `xpev_df`\n",
    "8. BYD Company Limited Stock `byddf_df`\n",
    "9. Brent Crude Oil Last Day Financ `oil_df`\n",
    "10. Number of Tesla vehicles delivered worldwide `deliver_df`\n",
    "11. Tesla Revenue `revenue_df`\n",
    "\n",
    "Actually, in the last section, we have done a bit of data Cleaning, like\n",
    "\n",
    "1. drop nan/missing values \n",
    "2. reset the index of dataframe to include `date` as one column in the dataframe\n",
    "\n",
    "However, we still need to do more:\n",
    "\n",
    "1. Renaming columns to a more recognizable set of labels \n",
    "2. Dropping unnecessary columns in a DataFrame\n",
    "3. do some more modification on `deliver_df` and `revenue_df`\n",
    "4. Combine all these dataframe to a complete DataFrame\n",
    "\n",
    "## Clean `revenue_df`"
   ]
  },
  {
   "cell_type": "code",
   "execution_count": null,
   "metadata": {},
   "outputs": [],
   "source": [
    "# rename the dataframe\n",
    "revenue_df.columns = [\"Date\", \"Tesla Quarterly Revenue(Millions of US $)\"]\n",
    "\n",
    "# drop rows with missing values\n",
    "revenue_df = revenue_df.dropna()\n",
    "\n",
    "# transfer data type of \"Date\" from string to TimeStamp\n",
    "revenue_df[\"Date\"] = revenue_df[\"Date\"].map(pd.Timestamp)\n",
    "\n",
    "# transfer data type of \"Tesla Quarterly Revenue(Millions of US $)\" from string to decimal\n",
    "def doller2decimal(target):\n",
    "    return float(target.replace(\",\", \"\").replace(\"$\", \"\"))\n",
    "revenue_df[\"Tesla Quarterly Revenue(Millions of US $)\"] = revenue_df[\"Tesla Quarterly Revenue(Millions of US $)\"].apply(doller2decimal)\n",
    "\n",
    "# reorder the revenue_df to ascending order by Date\n",
    "revenue_df = revenue_df.sort_values(by = [\"Date\"], ascending = True)\n",
    "\n",
    "revenue_df.tail(5)\n"
   ]
  },
  {
   "cell_type": "markdown",
   "metadata": {},
   "source": [
    "## Clean `deliver_df`"
   ]
  },
  {
   "cell_type": "code",
   "execution_count": 156,
   "metadata": {},
   "outputs": [
    {
     "output_type": "execute_result",
     "data": {
      "text/plain": "        Date  Production Model S/X  Deliveries Model S/X  Production Model 3  \\\n0 2019-06-30               14517.0               17650.0             72531.0   \n1 2019-09-30               16318.0               17400.0             79837.0   \n2 2019-12-31               17933.0               19450.0             86958.0   \n3 2020-03-31               15390.0               12200.0             87282.0   \n4 2020-06-30                6326.0               10600.0             75946.0   \n5 2020-09-30               16992.0               15200.0            128044.0   \n\n   Deliveries Model 3  Production Total  Deliveries Total  \n0             77550.0           87048.0           95200.0  \n1             79600.0           96155.0           97000.0  \n2             92550.0          104891.0          112000.0  \n3             76200.0          102672.0           88400.0  \n4             80050.0           82272.0           90650.0  \n5            124100.0          145036.0          139300.0  ",
      "text/html": "<div>\n<style scoped>\n    .dataframe tbody tr th:only-of-type {\n        vertical-align: middle;\n    }\n\n    .dataframe tbody tr th {\n        vertical-align: top;\n    }\n\n    .dataframe thead th {\n        text-align: right;\n    }\n</style>\n<table border=\"1\" class=\"dataframe\">\n  <thead>\n    <tr style=\"text-align: right;\">\n      <th></th>\n      <th>Date</th>\n      <th>Production Model S/X</th>\n      <th>Deliveries Model S/X</th>\n      <th>Production Model 3</th>\n      <th>Deliveries Model 3</th>\n      <th>Production Total</th>\n      <th>Deliveries Total</th>\n    </tr>\n  </thead>\n  <tbody>\n    <tr>\n      <th>0</th>\n      <td>2019-06-30</td>\n      <td>14517.0</td>\n      <td>17650.0</td>\n      <td>72531.0</td>\n      <td>77550.0</td>\n      <td>87048.0</td>\n      <td>95200.0</td>\n    </tr>\n    <tr>\n      <th>1</th>\n      <td>2019-09-30</td>\n      <td>16318.0</td>\n      <td>17400.0</td>\n      <td>79837.0</td>\n      <td>79600.0</td>\n      <td>96155.0</td>\n      <td>97000.0</td>\n    </tr>\n    <tr>\n      <th>2</th>\n      <td>2019-12-31</td>\n      <td>17933.0</td>\n      <td>19450.0</td>\n      <td>86958.0</td>\n      <td>92550.0</td>\n      <td>104891.0</td>\n      <td>112000.0</td>\n    </tr>\n    <tr>\n      <th>3</th>\n      <td>2020-03-31</td>\n      <td>15390.0</td>\n      <td>12200.0</td>\n      <td>87282.0</td>\n      <td>76200.0</td>\n      <td>102672.0</td>\n      <td>88400.0</td>\n    </tr>\n    <tr>\n      <th>4</th>\n      <td>2020-06-30</td>\n      <td>6326.0</td>\n      <td>10600.0</td>\n      <td>75946.0</td>\n      <td>80050.0</td>\n      <td>82272.0</td>\n      <td>90650.0</td>\n    </tr>\n    <tr>\n      <th>5</th>\n      <td>2020-09-30</td>\n      <td>16992.0</td>\n      <td>15200.0</td>\n      <td>128044.0</td>\n      <td>124100.0</td>\n      <td>145036.0</td>\n      <td>139300.0</td>\n    </tr>\n  </tbody>\n</table>\n</div>"
     },
     "metadata": {},
     "execution_count": 156
    }
   ],
   "source": [
    "# convert each line to float number\n",
    "for col in deliver_df.columns.to_list():\n",
    "    deliver_df[col] = deliver_df[col].apply(float)\n",
    "# add \"Date\" to the dataframe deliver_df\n",
    "deliver_df[\"Date\"] = revenue_df[\"Date\"][-len(deliver_df):].reset_index()[\"Date\"]\n",
    "deliver_df = deliver_df[deliver_df.columns.to_list()[-1:] + deliver_df.columns.to_list()[:-1]] # reorder the columns\n",
    "\n",
    "deliver_df"
   ]
  },
  {
   "cell_type": "markdown",
   "metadata": {},
   "source": [
    "## Clean `stock_dfs`\n",
    "### DataFrames Plotting "
   ]
  },
  {
   "cell_type": "code",
   "execution_count": null,
   "metadata": {},
   "outputs": [],
   "source": [
    "fig, axs = plt.subplots(3, 3)\n",
    "fig.suptitle(\"DataFrames Plotting\")\n",
    "for i in range(len(stock_dfs)):\n",
    "    axs[int((i - i % 3) / 3), i % 3].plot(stock_dfs[i].index, stock_dfs[i].iloc[:, 0])\n",
    "for i in range(3):\n",
    "    for ax in axs[:, i]:\n",
    "        ax.label_outer()\n",
    "        ax.get_xaxis().set_ticks([])\n",
    "        ax.get_yaxis().set_ticks([])"
   ]
  },
  {
   "cell_type": "markdown",
   "metadata": {},
   "source": [
    "## Clean & Combine Stocks DFs"
   ]
  },
  {
   "cell_type": "code",
   "execution_count": 89,
   "metadata": {},
   "outputs": [],
   "source": [
    "# rename the df in stock_dfs to a more reasonable name\n",
    "for df, ticker in zip(stock_dfs, tickers):\n",
    "    if ticker[1] != \"fred\":\n",
    "        new_col_names = [ticker[0] + \" \" + col for col in df.columns.to_list()]\n",
    "        df.columns = new_col_names"
   ]
  },
  {
   "cell_type": "code",
   "execution_count": 111,
   "metadata": {},
   "outputs": [
    {
     "output_type": "execute_result",
     "data": {
      "text/plain": "             TSLA High    TSLA Low   TSLA Open  TSLA Close  TSLA Volume  \\\n2020-11-19  508.609985  487.570007  492.000000  499.269989   62475300.0   \n2020-11-20  502.500000  489.059998  497.989990  489.609985   32807300.0   \n2020-11-23  526.000000  501.790009  503.500000  521.849976   50260300.0   \n2020-11-24  559.989990  526.200012  540.400024  555.380005   53648500.0   \n2020-11-25  574.000000  545.369995  550.059998  574.000000   48930200.0   \n\n            TSLA Adj Close      DJIA   DFF  PCRFY High  PCRFY Low  ...  \\\n2020-11-19      499.269989  29483.23  0.08       10.55      10.40  ...   \n2020-11-20      489.609985  29263.48  0.08       10.66      10.42  ...   \n2020-11-23      521.849976  29591.27  0.08       10.89      10.62  ...   \n2020-11-24      555.380005  30046.24  0.08       10.75      10.55  ...   \n2020-11-25      574.000000  29872.47  0.08       10.95      10.73  ...   \n\n            XPEV Open  XPEV Close  XPEV Volume  XPEV Adj Close  BYDDF High  \\\n2020-11-19  41.720001   48.110001   35122700.0       48.110001   22.830000   \n2020-11-20  48.660000   53.889999   79374800.0       53.889999   23.790001   \n2020-11-23  56.750000   72.169998  100012200.0       72.169998   26.379999   \n2020-11-24  72.169998   70.629997   99907800.0       70.629997   27.200001   \n2020-11-25  64.650002   64.269997   49197400.0       64.269997   25.820000   \n\n            BYDDF Low  BYDDF Open  BYDDF Close  BYDDF Volume  BYDDF Adj Close  \n2020-11-19  22.280001   22.549999    22.670000      570800.0        22.670000  \n2020-11-20  23.410000   23.790001    23.770000      558100.0        23.770000  \n2020-11-23  24.600000   26.000000    26.379999      965000.0        26.379999  \n2020-11-24  25.700001   27.200001    26.110001      819900.0        26.110001  \n2020-11-25  24.809999   25.129999    25.170000      524700.0        25.170000  \n\n[5 rows x 38 columns]",
      "text/html": "<div>\n<style scoped>\n    .dataframe tbody tr th:only-of-type {\n        vertical-align: middle;\n    }\n\n    .dataframe tbody tr th {\n        vertical-align: top;\n    }\n\n    .dataframe thead th {\n        text-align: right;\n    }\n</style>\n<table border=\"1\" class=\"dataframe\">\n  <thead>\n    <tr style=\"text-align: right;\">\n      <th></th>\n      <th>TSLA High</th>\n      <th>TSLA Low</th>\n      <th>TSLA Open</th>\n      <th>TSLA Close</th>\n      <th>TSLA Volume</th>\n      <th>TSLA Adj Close</th>\n      <th>DJIA</th>\n      <th>DFF</th>\n      <th>PCRFY High</th>\n      <th>PCRFY Low</th>\n      <th>...</th>\n      <th>XPEV Open</th>\n      <th>XPEV Close</th>\n      <th>XPEV Volume</th>\n      <th>XPEV Adj Close</th>\n      <th>BYDDF High</th>\n      <th>BYDDF Low</th>\n      <th>BYDDF Open</th>\n      <th>BYDDF Close</th>\n      <th>BYDDF Volume</th>\n      <th>BYDDF Adj Close</th>\n    </tr>\n  </thead>\n  <tbody>\n    <tr>\n      <th>2020-11-19</th>\n      <td>508.609985</td>\n      <td>487.570007</td>\n      <td>492.000000</td>\n      <td>499.269989</td>\n      <td>62475300.0</td>\n      <td>499.269989</td>\n      <td>29483.23</td>\n      <td>0.08</td>\n      <td>10.55</td>\n      <td>10.40</td>\n      <td>...</td>\n      <td>41.720001</td>\n      <td>48.110001</td>\n      <td>35122700.0</td>\n      <td>48.110001</td>\n      <td>22.830000</td>\n      <td>22.280001</td>\n      <td>22.549999</td>\n      <td>22.670000</td>\n      <td>570800.0</td>\n      <td>22.670000</td>\n    </tr>\n    <tr>\n      <th>2020-11-20</th>\n      <td>502.500000</td>\n      <td>489.059998</td>\n      <td>497.989990</td>\n      <td>489.609985</td>\n      <td>32807300.0</td>\n      <td>489.609985</td>\n      <td>29263.48</td>\n      <td>0.08</td>\n      <td>10.66</td>\n      <td>10.42</td>\n      <td>...</td>\n      <td>48.660000</td>\n      <td>53.889999</td>\n      <td>79374800.0</td>\n      <td>53.889999</td>\n      <td>23.790001</td>\n      <td>23.410000</td>\n      <td>23.790001</td>\n      <td>23.770000</td>\n      <td>558100.0</td>\n      <td>23.770000</td>\n    </tr>\n    <tr>\n      <th>2020-11-23</th>\n      <td>526.000000</td>\n      <td>501.790009</td>\n      <td>503.500000</td>\n      <td>521.849976</td>\n      <td>50260300.0</td>\n      <td>521.849976</td>\n      <td>29591.27</td>\n      <td>0.08</td>\n      <td>10.89</td>\n      <td>10.62</td>\n      <td>...</td>\n      <td>56.750000</td>\n      <td>72.169998</td>\n      <td>100012200.0</td>\n      <td>72.169998</td>\n      <td>26.379999</td>\n      <td>24.600000</td>\n      <td>26.000000</td>\n      <td>26.379999</td>\n      <td>965000.0</td>\n      <td>26.379999</td>\n    </tr>\n    <tr>\n      <th>2020-11-24</th>\n      <td>559.989990</td>\n      <td>526.200012</td>\n      <td>540.400024</td>\n      <td>555.380005</td>\n      <td>53648500.0</td>\n      <td>555.380005</td>\n      <td>30046.24</td>\n      <td>0.08</td>\n      <td>10.75</td>\n      <td>10.55</td>\n      <td>...</td>\n      <td>72.169998</td>\n      <td>70.629997</td>\n      <td>99907800.0</td>\n      <td>70.629997</td>\n      <td>27.200001</td>\n      <td>25.700001</td>\n      <td>27.200001</td>\n      <td>26.110001</td>\n      <td>819900.0</td>\n      <td>26.110001</td>\n    </tr>\n    <tr>\n      <th>2020-11-25</th>\n      <td>574.000000</td>\n      <td>545.369995</td>\n      <td>550.059998</td>\n      <td>574.000000</td>\n      <td>48930200.0</td>\n      <td>574.000000</td>\n      <td>29872.47</td>\n      <td>0.08</td>\n      <td>10.95</td>\n      <td>10.73</td>\n      <td>...</td>\n      <td>64.650002</td>\n      <td>64.269997</td>\n      <td>49197400.0</td>\n      <td>64.269997</td>\n      <td>25.820000</td>\n      <td>24.809999</td>\n      <td>25.129999</td>\n      <td>25.170000</td>\n      <td>524700.0</td>\n      <td>25.170000</td>\n    </tr>\n  </tbody>\n</table>\n<p>5 rows × 38 columns</p>\n</div>"
     },
     "metadata": {},
     "execution_count": 111
    }
   ],
   "source": [
    "# combine all the dataframes except for Brent Crude Oil Last Day Finance\n",
    "stock_df = pd.concat(stock_dfs[:-1], axis=1)\n",
    "# clean the missing values\n",
    "stock_df = stock_df.dropna()\n",
    "\n",
    "stock_df.tail(5)"
   ]
  },
  {
   "cell_type": "code",
   "execution_count": null,
   "metadata": {},
   "outputs": [],
   "source": []
  }
 ],
 "metadata": {
  "language_info": {
   "codemirror_mode": {
    "name": "ipython",
    "version": 3
   },
   "file_extension": ".py",
   "mimetype": "text/x-python",
   "name": "python",
   "nbconvert_exporter": "python",
   "pygments_lexer": "ipython3",
   "version": "3.7.6-final"
  },
  "orig_nbformat": 2,
  "kernelspec": {
   "name": "python3",
   "display_name": "Python 3"
  }
 },
 "nbformat": 4,
 "nbformat_minor": 2
}